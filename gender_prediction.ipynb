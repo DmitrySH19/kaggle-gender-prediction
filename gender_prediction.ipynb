{
 "cells": [
  {
   "cell_type": "markdown",
   "metadata": {
    "toc": true
   },
   "source": [
    "<h1>Table of Contents<span class=\"tocSkip\"></span></h1>\n",
    "<div class=\"toc\"><ul class=\"toc-item\"></ul></div>"
   ]
  },
  {
   "cell_type": "code",
   "execution_count": 1,
   "metadata": {},
   "outputs": [
    {
     "name": "stderr",
     "output_type": "stream",
     "text": [
      "<ipython-input-1-a39faecc7099>:8: TqdmDeprecationWarning: This function will be removed in tqdm==5.0.0\n",
      "Please use `tqdm.notebook.*` instead of `tqdm._tqdm_notebook.*`\n",
      "  from tqdm._tqdm_notebook import tqdm_notebook\n"
     ]
    }
   ],
   "source": [
    "import pandas as pd\n",
    "import numpy as np\n",
    "import xgboost as xgb\n",
    "import re\n",
    "import matplotlib.pyplot as plt\n",
    "from sklearn import preprocessing\n",
    "\n",
    "from tqdm._tqdm_notebook import tqdm_notebook\n",
    "from warnings import filterwarnings\n",
    "import matplotlib.ticker as ticker\n",
    "%matplotlib inline\n",
    "filterwarnings('ignore')\n",
    "# Считываем данные\n",
    "tr_mcc_codes = pd.read_csv('data/tr_mcc_codes.csv', sep=';', index_col='mcc_code')\n",
    "tr_types = pd.read_csv('data/tr_types.csv', sep=';', index_col='tr_type')\n",
    "\n",
    "transactions = pd.read_csv('data/transactions.csv', index_col='customer_id')\n",
    "gender_train = pd.read_csv('data/gender_train.csv', index_col='customer_id')\n",
    "gender_test = pd.read_csv('data/gender_test.csv', index_col='customer_id')\n",
    "transactions_train = transactions.join(gender_train, how='inner')\n",
    "transactions_test = transactions.join(gender_test, how='inner')\n",
    "\n",
    "del transactions\n",
    "\n",
    "tqdm_notebook.pandas(desc=\"Progress:\")\n",
    "\n",
    "def cv_score(params, train, y_true):\n",
    "    cv_res=xgb.cv(params, xgb.DMatrix(train, y_true),\n",
    "                  early_stopping_rounds=10, maximize=True, \n",
    "                  num_boost_round=10000, nfold=5, stratified=True)\n",
    "    index_argmax = cv_res['test-auc-mean'].argmax()\n",
    "    print('Cross-validation, ROC AUC: {:.3f}+-{:.3f}, Trees: {}'.format(cv_res.loc[index_argmax]['test-auc-mean'],\n",
    "                                                                        cv_res.loc[index_argmax]['test-auc-std'],\n",
    "                                                                        index_argmax))\n",
    "\n",
    "# Построение модели + возврат результатов классификации тестовых пользователей\n",
    "def fit_predict(params, num_trees, train, test, target):\n",
    "    params['learning_rate'] = params['eta']\n",
    "    clf = xgb.train(params, xgb.DMatrix(train.values, target, feature_names=list(train.columns)), \n",
    "                    num_boost_round=num_trees, maximize=True)\n",
    "    y_pred = clf.predict(xgb.DMatrix(test.values, feature_names=list(train.columns)))\n",
    "    submission = pd.DataFrame(index=test.index, data=y_pred, columns=['probability'])\n",
    "    return clf, submission\n",
    "\n",
    "# Отрисовка важности переменных. Важность переменной - количество разбиений выборки, \n",
    "# в которых участвует данная переменная. Чем больше - тем она, вероятно, лучше \n",
    "def draw_feature_importances(clf, top_k=10):\n",
    "    plt.figure(figsize=(10, 10))\n",
    "    \n",
    "    importances = dict(sorted(clf.get_score().items(), key=lambda x: x[1])[-top_k:])\n",
    "    y_pos = np.arange(len(importances))\n",
    "    \n",
    "    plt.barh(y_pos, list(importances.values()), align='center', color='green')\n",
    "    plt.yticks(y_pos, importances.keys(), fontsize=12)\n",
    "    plt.xticks(fontsize=12)\n",
    "    plt.xlabel('Feature importance', fontsize=15)\n",
    "    plt.title('Features importances, Sberbank Gender Prediction', fontsize=18)\n",
    "    plt.ylim(-0.5, len(importances) - 0.5)\n",
    "    plt.show()\n",
    "params = {\n",
    "    'eta': 0.1,\n",
    "    'max_depth': 4,\n",
    "    'subsample': 0.8,\n",
    "    'colsample_bytree': 0.8,\n",
    "    \n",
    "    'gamma': 0,\n",
    "    'lambda': 0,\n",
    "    'alpha': 0,\n",
    "    'min_child_weight': 0,\n",
    "    \n",
    "    'eval_metric': 'auc',\n",
    "    'objective': 'binary:logistic' ,\n",
    "    'booster': 'gbtree',\n",
    "    'tree_method': 'approx'\n",
    "}"
   ]
  },
  {
   "cell_type": "code",
   "execution_count": 2,
   "metadata": {},
   "outputs": [],
   "source": [
    "for df in [transactions_train, transactions_test]:\n",
    "    df['week_day'] = df['tr_datetime'].str.split().apply(lambda x: int(x[0]) % 7)\n",
    "    df['day'] = df['tr_datetime'].str.split().apply(lambda x: int(x[0]))\n",
    "    df['hour'] = df['tr_datetime'].apply(lambda x: re.search(' \\d*', x).group(0)).astype(int)\n",
    "    df['min'] = df['tr_datetime'].str.split().apply(lambda x: int(x[1].split(':')[2]))\n",
    "    df['night'] = ~df['hour'].between(6, 22).astype(int)"
   ]
  },
  {
   "cell_type": "code",
   "execution_count": null,
   "metadata": {},
   "outputs": [],
   "source": []
  },
  {
   "cell_type": "code",
   "execution_count": 13,
   "metadata": {},
   "outputs": [],
   "source": [
    "x = transactions_train.merge(tr_mcc_codes, left_on = 'mcc_code', right_on='mcc_code')\n",
    "x = pd.DataFrame(transactions_train.groupby(['mcc_code','gender'])['amount'].count())\n",
    "x = x.unstack(-1)\n",
    "x.columns.droplevel(0)\n",
    "x['k'] = abs(x[('amount', 0)]-x[('amount', 1)])\n",
    "x = x.merge(tr_mcc_codes, how='inner',left_index=True, right_index=True)\n",
    "labels = []\n",
    "for col in x.columns.values:\n",
    "    labels.append(str(str(col[0])+'_'+str(col[1])))\n",
    "x.columns = labels\n",
    "labels.clear()\n",
    "x = x.sort_values('k_',ascending=False)\n",
    "x['k_'] = (x['k_']-x['k_'].min())/(x['k_'].max()-x['k_'].min())\n",
    "#x = x.reset_index(level=0,drop=True)\n",
    "x = x[:20]\n",
    "def mmc_code_top20_feature(x):\n",
    "    feature = []\n",
    "    feature.append(pd.Series(x['amount'].value_counts().add_prefix('mcc_feature_')))\n",
    "    res = pd.concat(feature)\n",
    "    return res \n",
    "\n",
    "y = pd.DataFrame(transactions_train.groupby([transactions_train.index,'mcc_code'])['amount'].agg(['min', 'max', 'mean', 'median', 'std', 'count'])\\\n",
    "                                                        .add_prefix('mcc_code_tr_'))\n",
    "#y = pd.DataFrame(mmc_code_top20_feature(y))\n",
    "y = y.reset_index().set_index('customer_id')\n",
    "y = y[y['mcc_code'].isin(x.index.values)]\n",
    "y = y.set_index([y.index,'mcc_code']).unstack(-1)\n",
    "labels = []\n",
    "\n",
    "for col in y.columns.values:\n",
    "    labels.append(str(str(col[0])+'_'+str(col[1])))\n",
    "y.columns = labels\n",
    "labels.clear()\n",
    "data_train5 = y\n",
    "del y\n",
    "y = pd.DataFrame(transactions_test.groupby([transactions_test.index,'mcc_code'])['amount'].agg(['min', 'max', 'mean', 'median', 'std', 'count'])\\\n",
    "                                                        .add_prefix('mcc_code_tr_'))\n",
    "#y = pd.DataFrame(mmc_code_top20_feature(y))\n",
    "y = y.reset_index().set_index('customer_id')\n",
    "y = y[y['mcc_code'].isin(x.index.values)]\n",
    "y = y.set_index([y.index,'mcc_code']).unstack(-1)\n",
    "labels = []\n",
    "\n",
    "for col in y.columns.values:\n",
    "    labels.append(str(str(col[0])+'_'+str(col[1])))\n",
    "y.columns = labels\n",
    "labels.clear()\n",
    "\n",
    "data_test5 = y\n"
   ]
  },
  {
   "cell_type": "code",
   "execution_count": null,
   "metadata": {},
   "outputs": [],
   "source": [
    "\n"
   ]
  },
  {
   "cell_type": "code",
   "execution_count": null,
   "metadata": {},
   "outputs": [],
   "source": [
    "\n"
   ]
  },
  {
   "cell_type": "code",
   "execution_count": null,
   "metadata": {},
   "outputs": [],
   "source": [
    "data_train5"
   ]
  },
  {
   "cell_type": "code",
   "execution_count": 3,
   "metadata": {},
   "outputs": [],
   "source": [
    "def features_creation_advanced(x): \n",
    "    features = []\n",
    "    features.append(pd.Series(x['day'].value_counts().add_prefix('day_')))\n",
    "    features.append(pd.Series(x['hour'].value_counts().add_prefix('hour_')))\n",
    "    features.append(pd.Series(x['night'].value_counts().add_prefix('night_')))\n",
    "    features.append(pd.Series(x['week_day'].value_counts().add_prefix('night_')))\n",
    "    features.append(pd.Series(x[x['amount']>0]['amount'].agg(['min', 'max', 'mean', 'median', 'std', 'count'])\\\n",
    "                                                        .add_prefix('positive_transactions_')))\n",
    "    features.append(pd.Series(x[x['amount']<0]['amount'].agg(['min', 'max', 'mean', 'median', 'std', 'count'])\\\n",
    "                                                        .add_prefix('negative_transactions_')))\n",
    "    \n",
    "    res = pd.concat(features)\n",
    "    return res\n",
    "\n",
    "def features_transaction_per_hour(x):\n",
    "    features = []\n",
    "    features.append(pd.Series(x[x['amount']>0]['amount'].agg(['min', 'max', 'mean', 'median', 'std'])\\\n",
    "                                                        .add_prefix('pos_hour_trasaction_')))\n",
    "    features.append(pd.Series(x[x['amount']<0]['amount'].agg(['min', 'max', 'mean', 'median', 'std'])\\\n",
    "                                                        .add_prefix('neg_hour_trasaction_')))\n",
    "    res = pd.concat(features)\n",
    "    return res\n",
    "def features_tr_count_per_day(x):\n",
    "    features = []\n",
    "    t = x[x['amount']<0]\n",
    "    t = t.groupby([t.index,'day'])['amount'].count().unstack(-1)\\\n",
    "                                .add_prefix('day_count_').reset_index().rename_axis(None, axis=1)\\\n",
    "                                .set_index('customer_id')\n",
    "    #res = pd.concat(features)\n",
    "    return t"
   ]
  },
  {
   "cell_type": "code",
   "execution_count": 4,
   "metadata": {},
   "outputs": [
    {
     "data": {
      "application/vnd.jupyter.widget-view+json": {
       "model_id": "1e27b412f4904dbba2b94b2424a4a885",
       "version_major": 2,
       "version_minor": 0
      },
      "text/plain": [
       "Progress::   0%|          | 0/8400 [00:00<?, ?it/s]"
      ]
     },
     "metadata": {},
     "output_type": "display_data"
    },
    {
     "data": {
      "application/vnd.jupyter.widget-view+json": {
       "model_id": "4d110e153db8428bb53d7f54341b428d",
       "version_major": 2,
       "version_minor": 0
      },
      "text/plain": [
       "Progress::   0%|          | 0/3600 [00:00<?, ?it/s]"
      ]
     },
     "metadata": {},
     "output_type": "display_data"
    }
   ],
   "source": [
    "data_train1 = transactions_train.groupby(transactions_train.index)\\\n",
    "                               .progress_apply(features_creation_advanced).unstack(-1)\n",
    "data_test1 = transactions_test.groupby(transactions_test.index)\\\n",
    "                             .progress_apply(features_creation_advanced).unstack(-1)"
   ]
  },
  {
   "cell_type": "code",
   "execution_count": 5,
   "metadata": {},
   "outputs": [
    {
     "data": {
      "application/vnd.jupyter.widget-view+json": {
       "model_id": "240c2ad881eb4ecd8fd91cd746f0ddf1",
       "version_major": 2,
       "version_minor": 0
      },
      "text/plain": [
       "Progress::   0%|          | 0/156543 [00:00<?, ?it/s]"
      ]
     },
     "metadata": {},
     "output_type": "display_data"
    },
    {
     "data": {
      "application/vnd.jupyter.widget-view+json": {
       "model_id": "312f8dc0fea743eb839793b7d1ed653c",
       "version_major": 2,
       "version_minor": 0
      },
      "text/plain": [
       "Progress::   0%|          | 0/67060 [00:00<?, ?it/s]"
      ]
     },
     "metadata": {},
     "output_type": "display_data"
    }
   ],
   "source": [
    "data_train2 = transactions_train.groupby([transactions_train.index,'hour'])\\\n",
    "                               .progress_apply(features_transaction_per_hour).unstack(-1)\n",
    "data_test2 = transactions_test.groupby([transactions_test.index,'hour'])\\\n",
    "                               .progress_apply(features_transaction_per_hour).unstack(-1)\n",
    "data_train2.reset_index().set_index('customer_id')\n",
    "data_test2.reset_index().set_index('customer_id')\n",
    "data_train2 = data_train2.fillna(0)\n",
    "data_test2 = data_test2.fillna(0)\n",
    "labels = []\n",
    "\n",
    "for col in data_train2.columns.values:\n",
    "    labels.append(str(str(col[0])+'_'+str(col[1])))\n",
    "data_train2.columns = labels\n",
    "labels.clear()\n",
    "for col in data_test2.columns.values:\n",
    "    labels.append(str(str(col[0])+'_'+str(col[1])))\n",
    "data_test2.columns = labels"
   ]
  },
  {
   "cell_type": "code",
   "execution_count": 6,
   "metadata": {},
   "outputs": [],
   "source": [
    "#data_train3 = features_tr_count_per_day(transactions_train)\n",
    "#data_test3 = features_tr_count_per_day(transactions_test)"
   ]
  },
  {
   "cell_type": "code",
   "execution_count": 7,
   "metadata": {},
   "outputs": [
    {
     "data": {
      "text/html": [
       "<div>\n",
       "<style scoped>\n",
       "    .dataframe tbody tr th:only-of-type {\n",
       "        vertical-align: middle;\n",
       "    }\n",
       "\n",
       "    .dataframe tbody tr th {\n",
       "        vertical-align: top;\n",
       "    }\n",
       "\n",
       "    .dataframe thead th {\n",
       "        text-align: right;\n",
       "    }\n",
       "</style>\n",
       "<table border=\"1\" class=\"dataframe\">\n",
       "  <thead>\n",
       "    <tr style=\"text-align: right;\">\n",
       "      <th></th>\n",
       "      <th>day</th>\n",
       "      <th>eight_march_min</th>\n",
       "      <th>eight_march_max</th>\n",
       "      <th>eight_march_mean</th>\n",
       "      <th>eight_march_median</th>\n",
       "      <th>eight_march_std</th>\n",
       "    </tr>\n",
       "    <tr>\n",
       "      <th>customer_id</th>\n",
       "      <th></th>\n",
       "      <th></th>\n",
       "      <th></th>\n",
       "      <th></th>\n",
       "      <th></th>\n",
       "      <th></th>\n",
       "    </tr>\n",
       "  </thead>\n",
       "  <tbody>\n",
       "    <tr>\n",
       "      <th>2173974</th>\n",
       "      <td>219</td>\n",
       "      <td>-21336.20</td>\n",
       "      <td>-3818.06</td>\n",
       "      <td>-12577.130</td>\n",
       "      <td>-12577.130</td>\n",
       "      <td>12387.195588</td>\n",
       "    </tr>\n",
       "    <tr>\n",
       "      <th>2649097</th>\n",
       "      <td>219</td>\n",
       "      <td>-24705.07</td>\n",
       "      <td>-24705.07</td>\n",
       "      <td>-24705.070</td>\n",
       "      <td>-24705.070</td>\n",
       "      <td>NaN</td>\n",
       "    </tr>\n",
       "    <tr>\n",
       "      <th>3743929</th>\n",
       "      <td>218</td>\n",
       "      <td>-97697.34</td>\n",
       "      <td>-97697.34</td>\n",
       "      <td>-97697.340</td>\n",
       "      <td>-97697.340</td>\n",
       "      <td>NaN</td>\n",
       "    </tr>\n",
       "    <tr>\n",
       "      <th>4077097</th>\n",
       "      <td>218</td>\n",
       "      <td>-37955.98</td>\n",
       "      <td>-29107.07</td>\n",
       "      <td>-33531.525</td>\n",
       "      <td>-33531.525</td>\n",
       "      <td>6257.124267</td>\n",
       "    </tr>\n",
       "    <tr>\n",
       "      <th>5308727</th>\n",
       "      <td>217</td>\n",
       "      <td>-50533.10</td>\n",
       "      <td>-50533.10</td>\n",
       "      <td>-50533.100</td>\n",
       "      <td>-50533.100</td>\n",
       "      <td>NaN</td>\n",
       "    </tr>\n",
       "    <tr>\n",
       "      <th>...</th>\n",
       "      <td>...</td>\n",
       "      <td>...</td>\n",
       "      <td>...</td>\n",
       "      <td>...</td>\n",
       "      <td>...</td>\n",
       "      <td>...</td>\n",
       "    </tr>\n",
       "    <tr>\n",
       "      <th>97913958</th>\n",
       "      <td>218</td>\n",
       "      <td>-17068.96</td>\n",
       "      <td>-17068.96</td>\n",
       "      <td>-17068.960</td>\n",
       "      <td>-17068.960</td>\n",
       "      <td>NaN</td>\n",
       "    </tr>\n",
       "    <tr>\n",
       "      <th>97913958</th>\n",
       "      <td>219</td>\n",
       "      <td>-3368.87</td>\n",
       "      <td>-3368.87</td>\n",
       "      <td>-3368.870</td>\n",
       "      <td>-3368.870</td>\n",
       "      <td>NaN</td>\n",
       "    </tr>\n",
       "    <tr>\n",
       "      <th>98513618</th>\n",
       "      <td>218</td>\n",
       "      <td>-15721.41</td>\n",
       "      <td>-15721.41</td>\n",
       "      <td>-15721.410</td>\n",
       "      <td>-15721.410</td>\n",
       "      <td>NaN</td>\n",
       "    </tr>\n",
       "    <tr>\n",
       "      <th>99014776</th>\n",
       "      <td>218</td>\n",
       "      <td>-22436.70</td>\n",
       "      <td>-22436.70</td>\n",
       "      <td>-22436.700</td>\n",
       "      <td>-22436.700</td>\n",
       "      <td>NaN</td>\n",
       "    </tr>\n",
       "    <tr>\n",
       "      <th>99165645</th>\n",
       "      <td>217</td>\n",
       "      <td>-3571.01</td>\n",
       "      <td>-3571.01</td>\n",
       "      <td>-3571.010</td>\n",
       "      <td>-3571.010</td>\n",
       "      <td>NaN</td>\n",
       "    </tr>\n",
       "  </tbody>\n",
       "</table>\n",
       "<p>91 rows × 6 columns</p>\n",
       "</div>"
      ],
      "text/plain": [
       "             day  eight_march_min  eight_march_max  eight_march_mean  \\\n",
       "customer_id                                                            \n",
       "2173974      219        -21336.20         -3818.06        -12577.130   \n",
       "2649097      219        -24705.07        -24705.07        -24705.070   \n",
       "3743929      218        -97697.34        -97697.34        -97697.340   \n",
       "4077097      218        -37955.98        -29107.07        -33531.525   \n",
       "5308727      217        -50533.10        -50533.10        -50533.100   \n",
       "...          ...              ...              ...               ...   \n",
       "97913958     218        -17068.96        -17068.96        -17068.960   \n",
       "97913958     219         -3368.87         -3368.87         -3368.870   \n",
       "98513618     218        -15721.41        -15721.41        -15721.410   \n",
       "99014776     218        -22436.70        -22436.70        -22436.700   \n",
       "99165645     217         -3571.01         -3571.01         -3571.010   \n",
       "\n",
       "             eight_march_median  eight_march_std  \n",
       "customer_id                                       \n",
       "2173974              -12577.130     12387.195588  \n",
       "2649097              -24705.070              NaN  \n",
       "3743929              -97697.340              NaN  \n",
       "4077097              -33531.525      6257.124267  \n",
       "5308727              -50533.100              NaN  \n",
       "...                         ...              ...  \n",
       "97913958             -17068.960              NaN  \n",
       "97913958              -3368.870              NaN  \n",
       "98513618             -15721.410              NaN  \n",
       "99014776             -22436.700              NaN  \n",
       "99165645              -3571.010              NaN  \n",
       "\n",
       "[91 rows x 6 columns]"
      ]
     },
     "execution_count": 7,
     "metadata": {},
     "output_type": "execute_result"
    }
   ],
   "source": [
    "def celebration_feature(x):\n",
    "    features = []\n",
    "    t = x[(x.amount < 0) & (x.mcc_code.isin([5992,5094,5944,5621,5631]))]\n",
    "    t = t.groupby([t.index,'day'])['amount'].agg(['min', 'max', 'mean', 'median', 'std']).add_prefix('eight_march_')\n",
    "    t = t.reset_index().set_index('customer_id')\n",
    "    t = t[(t.day>=217) & (t.day<=219)]\n",
    "    t.drop('day', 1)\n",
    "    return t\n",
    "    \n",
    "\n",
    "\n",
    "#eight_march =  transactions_train[(transactions_train.amount < 0) & (transactions_train.mcc_code.isin([5992,5094,5944,5621,5631]))]\n",
    "#eight_march = eight_march.groupby([eight_march.index,'day'])['amount'].agg(['sum','count']).add_prefix('eight_march_')\n",
    "#eight_march = eight_march.reset_index().set_index('customer_id')\n",
    "#eight_march[(eight_march.day>=217) & (eight_march.day<=219)]\n",
    "data_train4 = celebration_feature(transactions_train)\n",
    "data_test4 = celebration_feature(transactions_test)\n",
    "data_test4\n"
   ]
  },
  {
   "cell_type": "code",
   "execution_count": 28,
   "metadata": {},
   "outputs": [
    {
     "data": {
      "text/plain": [
       "Int64Index([    6815,    27914,    31385,    38084,    78659,    85327,\n",
       "              168767,   172390,   186730,   279454,\n",
       "            ...\n",
       "            99785861, 99804009, 99836889, 99849278, 99888537, 99918216,\n",
       "            99938948, 99953525, 99985917, 99991245],\n",
       "           dtype='int64', name='customer_id', length=3597)"
      ]
     },
     "execution_count": 28,
     "metadata": {},
     "output_type": "execute_result"
    }
   ],
   "source": [
    "data_test3.index"
   ]
  },
  {
   "cell_type": "code",
   "execution_count": null,
   "metadata": {},
   "outputs": [],
   "source": [
    "#data_train1.merge(data_train4, how='left', right_index=True,left_index=True)"
   ]
  },
  {
   "cell_type": "code",
   "execution_count": 16,
   "metadata": {},
   "outputs": [
    {
     "name": "stdout",
     "output_type": "stream",
     "text": [
      "Cross-validation, ROC AUC: 0.839+-0.008, Trees: 564\n"
     ]
    }
   ],
   "source": [
    "data_train = data_train1.merge(data_train2,right_index=True,left_index=True)\n",
    "data_test = data_test1.merge(data_test2,right_index=True,left_index=True)\n",
    "#data_train = data_train.merge(data_train3,right_index=True,left_index=True)\n",
    "#data_test = data_test.merge(data_test3,right_index=True,left_index=True)\n",
    "data_train = data_train.merge(data_train4,how='left', right_index=True,left_index=True)\n",
    "data_test = data_test.merge(data_test4,how='left', right_index=True,left_index=True)\n",
    "data_train = data_train.merge(data_train5,right_index=True,left_index=True)\n",
    "data_test = data_test.merge(data_test5,right_index=True,left_index=True)\n",
    "\n",
    "#data_train = data_train4\n",
    "#data_test = data_test4\n",
    "#data_train = data_train.fillna(0)\n",
    "#data_test = data_test.fillna(0)\n",
    "data_train = (data_train-data_train.mean())/data_train.std()\n",
    "data_test = (data_test-data_test.mean())/data_test.std()\n",
    "target = data_train.join(gender_train, how='inner')['gender']\n",
    "cv_score(params, data_train, target)"
   ]
  },
  {
   "cell_type": "code",
   "execution_count": 17,
   "metadata": {},
   "outputs": [
    {
     "data": {
      "image/png": "[encoded data removed]",
      "text/plain": [
       "<Figure size 720x720 with 1 Axes>"
      ]
     },
     "metadata": {
      "needs_background": "light"
     },
     "output_type": "display_data"
    }
   ],
   "source": [
    "clf, submission = fit_predict(params, 646, data_train, data_test, target)\n",
    "draw_feature_importances(clf, 50)"
   ]
  },
  {
   "cell_type": "code",
   "execution_count": null,
   "metadata": {},
   "outputs": [],
   "source": [
    "#submission = submission.drop_duplicates(subset=submission.index, keep='first')"
   ]
  },
  {
   "cell_type": "code",
   "execution_count": 29,
   "metadata": {},
   "outputs": [],
   "source": [
    "submission = submission.reset_index().drop_duplicates(subset='customer_id', keep='first').set_index('customer_id')\n"
   ]
  },
  {
   "cell_type": "code",
   "execution_count": 30,
   "metadata": {},
   "outputs": [
    {
     "data": {
      "text/plain": [
       "Int64Index([    6815,    27914,    31385,    38084,    78659,    85327,\n",
       "               85635,   168767,   172390,   186730,\n",
       "            ...\n",
       "            99785861, 99804009, 99836889, 99849278, 99888537, 99918216,\n",
       "            99938948, 99953525, 99985917, 99991245],\n",
       "           dtype='int64', name='customer_id', length=3600)"
      ]
     },
     "execution_count": 30,
     "metadata": {},
     "output_type": "execute_result"
    }
   ],
   "source": [
    "submission.index"
   ]
  },
  {
   "cell_type": "code",
   "execution_count": 32,
   "metadata": {},
   "outputs": [],
   "source": [
    "submission.to_csv('../submission_advanced.csv')"
   ]
  },
  {
   "cell_type": "code",
   "execution_count": null,
   "metadata": {},
   "outputs": [],
   "source": []
  }
 ],
 "metadata": {
  "kernelspec": {
   "display_name": "Python 3",
   "language": "python",
   "name": "python3"
  },
  "language_info": {
   "codemirror_mode": {
    "name": "ipython",
    "version": 3
   },
   "file_extension": ".py",
   "mimetype": "text/x-python",
   "name": "python",
   "nbconvert_exporter": "python",
   "pygments_lexer": "ipython3",
   "version": "3.8.3"
  },
  "toc": {
   "base_numbering": 1,
   "nav_menu": {},
   "number_sections": true,
   "sideBar": true,
   "skip_h1_title": false,
   "title_cell": "Table of Contents",
   "title_sidebar": "Contents",
   "toc_cell": true,
   "toc_position": {},
   "toc_section_display": true,
   "toc_window_display": false
  }
 },
 "nbformat": 4,
 "nbformat_minor": 4
}